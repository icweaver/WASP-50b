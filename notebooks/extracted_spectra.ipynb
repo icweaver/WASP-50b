{
 "cells": [
  {
   "cell_type": "markdown",
   "id": "found-village",
   "metadata": {},
   "source": [
    "# Extracted spectra"
   ]
  },
  {
   "cell_type": "markdown",
   "id": "alike-today",
   "metadata": {},
   "source": [
    "## Notebook setup"
   ]
  },
  {
   "cell_type": "code",
   "execution_count": 1,
   "id": "expected-ocean",
   "metadata": {},
   "outputs": [],
   "source": [
    "%load_ext autoreload\n",
    "%autoreload 2"
   ]
  },
  {
   "cell_type": "code",
   "execution_count": 2,
   "id": "c8d223ed",
   "metadata": {},
   "outputs": [],
   "source": [
    "%matplotlib qt5"
   ]
  },
  {
   "cell_type": "code",
   "execution_count": 3,
   "id": "quiet-bandwidth",
   "metadata": {},
   "outputs": [],
   "source": [
    "import glob as glob\n",
    "import matplotlib as mpl\n",
    "import matplotlib.patheffects as PathEffects\n",
    "import matplotlib.pyplot as plt\n",
    "import matplotlib.transforms as transforms\n",
    "import numpy as np\n",
    "import pandas as pd\n",
    "import seaborn as sns\n",
    "\n",
    "import bz2\n",
    "import corner\n",
    "import json\n",
    "import pathlib\n",
    "import pickle\n",
    "import utils\n",
    "import warnings\n",
    "\n",
    "from astropy import constants as const\n",
    "from astropy import units as uni\n",
    "from astropy.io import ascii, fits\n",
    "from astropy.time import Time\n",
    "from mpl_toolkits.axes_grid1 import ImageGrid\n",
    "\n",
    "# Default figure dimensions\n",
    "FIG_WIDE = (11, 5)\n",
    "FIG_LARGE = (8, 11)\n",
    "\n",
    "# Figure style\n",
    "sns.set(style=\"ticks\", palette=\"colorblind\", color_codes=True, context=\"talk\")\n",
    "params = utils.plot_params()\n",
    "plt.rcParams.update(params)"
   ]
  },
  {
   "cell_type": "markdown",
   "id": "pleased-possibility",
   "metadata": {},
   "source": [
    "## [Dowload data](https://www.dropbox.com/sh/f6rqfis0rdd0w1r/AAADJF0JI-YEx1cS9oCiwKP6a?dl=1)"
   ]
  },
  {
   "cell_type": "markdown",
   "id": "sudden-ballot",
   "metadata": {},
   "source": [
    "Unzip this into a folder named `data` in the same level as this notebook"
   ]
  },
  {
   "cell_type": "markdown",
   "id": "verified-reason",
   "metadata": {},
   "source": [
    "## Load"
   ]
  },
  {
   "cell_type": "code",
   "execution_count": 7,
   "id": "satisfactory-criminal",
   "metadata": {},
   "outputs": [],
   "source": [
    "base_dir = \"data/reduced/IMACS\"\n",
    "\n",
    "data_dict = {\n",
    "#     \"Transit 1\": {\n",
    "#         \"data\": utils.load_pickle(\n",
    "#             f\"{base_dir}/ut131219_a15_25_noflat/LCs_w50_bins.pkl\"\n",
    "#         ),\n",
    "#         \"comps_to_highlight\": [\"c15\", \"c18\", \"c21\", \"c23\"],\n",
    "#         \"t0\": Time(\"2013-12-19 03:22\").jd,\n",
    "#     },\n",
    "    \"Transit 1 (px)\": {\n",
    "        \"data\": utils.load_pickle(\n",
    "            f\"{base_dir}/ut131219/LCs_w50_bins_ut131219.pkl\"\n",
    "        ),\n",
    "        \"comps_to_highlight\": [\"c15\", \"c18\", \"c21\", \"c23\"],\n",
    "        \"t0\": Time(\"2013-12-19 03:22\").jd,\n",
    "    },\n",
    "#     \"Transit 2\": {\n",
    "#         \"data\": utils.load_pickle(\n",
    "#             f\"{base_dir}/ut150927_a15_25_noflat/LCs_w50_bins.pkl\"\n",
    "#         ),\n",
    "#         \"comps_to_highlight\": [\"c15\", \"c18\", \"c21\", \"c23\"],\n",
    "#         \"t0\": Time(\"2015-09-27 06:37\").jd,\n",
    "#     },\n",
    "    \"Transit 2 (px)\": {\n",
    "        \"data\": utils.load_pickle(\n",
    "            f\"{base_dir}/ut150927/LCs_w50_bins.pkl\"\n",
    "        ),\n",
    "        \"comps_to_highlight\": [\"c15\", \"c18\", \"c21\", \"c23\"],\n",
    "        \"t0\": Time(\"2015-09-27 06:37\").jd,\n",
    "    },\n",
    "#     \"Transit 3\": {\n",
    "#         \"data\": utils.load_pickle(\n",
    "#             f\"{base_dir}/ut161211_a24_42_noflat/LCs_w50_bins.pkl\"\n",
    "#         ),\n",
    "#         \"comps_to_highlight\": [\"c06\", \"c13\"],\n",
    "#         \"t0\": Time(\"2016-12-12 03:03\").jd,\n",
    "#     },\n",
    "    \"Transit 3 (px)\": {\n",
    "        \"data\": utils.load_pickle(\n",
    "            f\"{base_dir}/ut161211/LCs_w50_bins.pkl\"\n",
    "        ),\n",
    "        \"comps_to_highlight\": [\"c06\", \"c13\"],\n",
    "        \"t0\": Time(\"2016-12-12 03:03\").jd,\n",
    "    },\n",
    "}"
   ]
  },
  {
   "cell_type": "markdown",
   "id": "announced-detail",
   "metadata": {},
   "source": [
    "## Plot"
   ]
  },
  {
   "cell_type": "code",
   "execution_count": 19,
   "id": "8b0426a0",
   "metadata": {
    "scrolled": false
   },
   "outputs": [],
   "source": [
    "for transit, transit_data in data_dict.items():\n",
    "    spec = transit_data[\"data\"][\"spectra\"]\n",
    "    wavs = spec[\"wavelengths\"]\n",
    "    comp_names_to_use = transit_data[\"comps_to_highlight\"]\n",
    "\n",
    "    fig, ax = plt.subplots(figsize=FIG_WIDE)\n",
    "    c = \"darkgrey\"\n",
    "    for name, data in sorted(spec.items()):\n",
    "        if \"WASP50\" in name:\n",
    "            median_kwargs = {\"c\": \"C8\"}\n",
    "        else:\n",
    "            median_kwargs = None\n",
    "            c = \"grey\"\n",
    "        if (name in comp_names_to_use) or (\"WASP50\" in name):\n",
    "            p, wav, flux = utils.plot_spec_file(\n",
    "                ax,\n",
    "                data = data,\n",
    "                wavs = wavs,\n",
    "                label = name,\n",
    "                median_kwargs = median_kwargs,\n",
    "                # fill_kwargs=fill_kwargs,\n",
    "            )\n",
    "    ax.legend(loc=1, fontsize=12)\n",
    "    ax.set_title(transit)\n",
    "\n",
    "    # Bins\n",
    "    wavs_d, wavs_u = np.genfromtxt(f\"{base_dir}/w50_bins.dat\", unpack=True)\n",
    "\n",
    "    if \"Transit 1\" in transit:\n",
    "        wavs_d_1, wavs_u_1 = np.genfromtxt(f\"{base_dir}/w50_bins_ut131219.dat\", unpack=True)\n",
    "        for i, (w_d, w_u) in enumerate(zip(wavs_d_1, wavs_u_1)):\n",
    "            c = \"k\" if i % 2 == 0 else \"darkgrey\"\n",
    "            ax.axvspan(w_d, w_u, alpha=0.25, color=c, lw=0)\n",
    "    \n",
    "    else:\n",
    "        for i, (w_d, w_u) in enumerate(zip(wavs_d, wavs_u)):\n",
    "            c = \"k\" if i % 2 == 0 else \"darkgrey\"\n",
    "            ax.axvspan(w_d, w_u, alpha=0.25, color=c, lw=0)\n",
    "\n",
    "    # Species\n",
    "    species = {\"Na I-D\": 5892.9, \"K I_avg\": 7682.0, \"Na I-8200_avg\": 8189.0}\n",
    "    [ax.axvline(wav, ls=\"--\", lw=1, color=\"grey\") for name, wav in species.items()]\n",
    "\n",
    "\n",
    "    # Save\n",
    "    title = transit\n",
    "    ax.set_xlabel(\"Wavelength (Å)\")\n",
    "    ax.set_ylabel(\"Normalized Flux\")\n",
    "    # ax.set_title(title)\n",
    "    ax.set_xlim(4_000, 10_000)\n",
    "    title = title.lower().replace(\" \", \"_\") + \"_extr_spec\"\n",
    "    fig.tight_layout()\n",
    "    fig.set_size_inches(FIG_WIDE)\n",
    "    #utils.savefig(f\"../paper/figures/extracted_spectra/{title}.pdf\")"
   ]
  }
 ],
 "metadata": {
  "kernelspec": {
   "display_name": "Python 3",
   "language": "python",
   "name": "python3"
  },
  "language_info": {
   "codemirror_mode": {
    "name": "ipython",
    "version": 3
   },
   "file_extension": ".py",
   "mimetype": "text/x-python",
   "name": "python",
   "nbconvert_exporter": "python",
   "pygments_lexer": "ipython3",
   "version": "3.9.2"
  },
  "toc": {
   "base_numbering": 1,
   "nav_menu": {},
   "number_sections": false,
   "sideBar": true,
   "skip_h1_title": false,
   "title_cell": "Table of Contents",
   "title_sidebar": "Contents",
   "toc_cell": false,
   "toc_position": {},
   "toc_section_display": true,
   "toc_window_display": true
  }
 },
 "nbformat": 4,
 "nbformat_minor": 5
}
