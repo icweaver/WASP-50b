{
 "cells": [
  {
   "cell_type": "code",
   "execution_count": 1,
   "id": "67849704",
   "metadata": {},
   "outputs": [],
   "source": [
    "%load_ext autoreload\n",
    "%autoreload 2"
   ]
  },
  {
   "cell_type": "code",
   "execution_count": 2,
   "id": "37a3c420",
   "metadata": {},
   "outputs": [
    {
     "ename": "ImportError",
     "evalue": "cannot import name 'units' from 'astropy' (unknown location)",
     "output_type": "error",
     "traceback": [
      "\u001b[0;31m---------------------------------------------------------------------------\u001b[0m",
      "\u001b[0;31mImportError\u001b[0m                               Traceback (most recent call last)",
      "\u001b[0;32m<ipython-input-2-b5a43c2b7271>\u001b[0m in \u001b[0;36m<module>\u001b[0;34m\u001b[0m\n\u001b[0;32m----> 1\u001b[0;31m \u001b[0;32mfrom\u001b[0m \u001b[0mtess_sip\u001b[0m \u001b[0;32mimport\u001b[0m \u001b[0mSIP\u001b[0m\u001b[0;34m\u001b[0m\u001b[0;34m\u001b[0m\u001b[0m\n\u001b[0m\u001b[1;32m      2\u001b[0m \u001b[0;32mimport\u001b[0m \u001b[0mlightkurve\u001b[0m \u001b[0;32mas\u001b[0m \u001b[0mlk\u001b[0m\u001b[0;34m\u001b[0m\u001b[0;34m\u001b[0m\u001b[0m\n\u001b[1;32m      3\u001b[0m \u001b[0;32mimport\u001b[0m \u001b[0mmatplotlib\u001b[0m\u001b[0;34m.\u001b[0m\u001b[0mpyplot\u001b[0m \u001b[0;32mas\u001b[0m \u001b[0mplt\u001b[0m\u001b[0;34m\u001b[0m\u001b[0;34m\u001b[0m\u001b[0m\n\u001b[1;32m      4\u001b[0m \u001b[0;32mimport\u001b[0m \u001b[0mnumpy\u001b[0m \u001b[0;32mas\u001b[0m \u001b[0mnp\u001b[0m\u001b[0;34m\u001b[0m\u001b[0;34m\u001b[0m\u001b[0m\n\u001b[1;32m      5\u001b[0m \u001b[0;32mimport\u001b[0m \u001b[0mastropy\u001b[0m\u001b[0;34m.\u001b[0m\u001b[0munits\u001b[0m \u001b[0;32mas\u001b[0m \u001b[0mu\u001b[0m\u001b[0;34m\u001b[0m\u001b[0;34m\u001b[0m\u001b[0m\n",
      "\u001b[0;32m~/Projects/WASP-50b/notebooks/tess_sip/__init__.py\u001b[0m in \u001b[0;36m<module>\u001b[0;34m\u001b[0m\n\u001b[0;32m----> 1\u001b[0;31m \u001b[0;32mfrom\u001b[0m \u001b[0;34m.\u001b[0m\u001b[0mtess_sip\u001b[0m \u001b[0;32mimport\u001b[0m \u001b[0mSIP\u001b[0m\u001b[0;34m\u001b[0m\u001b[0;34m\u001b[0m\u001b[0m\n\u001b[0m\u001b[1;32m      2\u001b[0m \u001b[0;34m\u001b[0m\u001b[0m\n\u001b[1;32m      3\u001b[0m \u001b[0m__version__\u001b[0m \u001b[0;34m=\u001b[0m \u001b[0;34m\"1.0.9\"\u001b[0m\u001b[0;34m\u001b[0m\u001b[0;34m\u001b[0m\u001b[0m\n\u001b[1;32m      4\u001b[0m \u001b[0m__all__\u001b[0m \u001b[0;34m=\u001b[0m \u001b[0;34m[\u001b[0m\u001b[0;34m\"SIP\"\u001b[0m\u001b[0;34m]\u001b[0m\u001b[0;34m\u001b[0m\u001b[0;34m\u001b[0m\u001b[0m\n",
      "\u001b[0;32m~/Projects/WASP-50b/notebooks/tess_sip/tess_sip.py\u001b[0m in \u001b[0;36m<module>\u001b[0;34m\u001b[0m\n\u001b[0;32m----> 1\u001b[0;31m \u001b[0;32mimport\u001b[0m \u001b[0mlightkurve\u001b[0m \u001b[0;32mas\u001b[0m \u001b[0mlk\u001b[0m\u001b[0;34m\u001b[0m\u001b[0;34m\u001b[0m\u001b[0m\n\u001b[0m\u001b[1;32m      2\u001b[0m \u001b[0;32mimport\u001b[0m \u001b[0mnumpy\u001b[0m \u001b[0;32mas\u001b[0m \u001b[0mnp\u001b[0m\u001b[0;34m\u001b[0m\u001b[0;34m\u001b[0m\u001b[0m\n\u001b[1;32m      3\u001b[0m \u001b[0;32mfrom\u001b[0m \u001b[0mscipy\u001b[0m \u001b[0;32mimport\u001b[0m \u001b[0msparse\u001b[0m\u001b[0;34m\u001b[0m\u001b[0;34m\u001b[0m\u001b[0m\n\u001b[1;32m      4\u001b[0m \u001b[0;32mfrom\u001b[0m \u001b[0mtqdm\u001b[0m \u001b[0;32mimport\u001b[0m \u001b[0mtqdm\u001b[0m\u001b[0;34m\u001b[0m\u001b[0;34m\u001b[0m\u001b[0m\n\u001b[1;32m      5\u001b[0m \u001b[0;32mimport\u001b[0m \u001b[0mwarnings\u001b[0m\u001b[0;34m\u001b[0m\u001b[0;34m\u001b[0m\u001b[0m\n",
      "\u001b[0;32m~/miniconda3/envs/WASP50/lib/python3.9/site-packages/lightkurve/__init__.py\u001b[0m in \u001b[0;36m<module>\u001b[0;34m\u001b[0m\n\u001b[1;32m     35\u001b[0m \u001b[0;34m\u001b[0m\u001b[0m\n\u001b[1;32m     36\u001b[0m \u001b[0;32mfrom\u001b[0m \u001b[0;34m.\u001b[0m\u001b[0mversion\u001b[0m \u001b[0;32mimport\u001b[0m \u001b[0m__version__\u001b[0m\u001b[0;34m\u001b[0m\u001b[0;34m\u001b[0m\u001b[0m\n\u001b[0;32m---> 37\u001b[0;31m \u001b[0;32mfrom\u001b[0m \u001b[0;34m.\u001b[0m \u001b[0;32mimport\u001b[0m \u001b[0munits\u001b[0m  \u001b[0;31m# enable ppt and ppm as units\u001b[0m\u001b[0;34m\u001b[0m\u001b[0;34m\u001b[0m\u001b[0m\n\u001b[0m\u001b[1;32m     38\u001b[0m \u001b[0;32mfrom\u001b[0m \u001b[0;34m.\u001b[0m\u001b[0mtime\u001b[0m \u001b[0;32mimport\u001b[0m \u001b[0;34m*\u001b[0m\u001b[0;34m\u001b[0m\u001b[0;34m\u001b[0m\u001b[0m\n\u001b[1;32m     39\u001b[0m \u001b[0;32mfrom\u001b[0m \u001b[0;34m.\u001b[0m\u001b[0mlightcurve\u001b[0m \u001b[0;32mimport\u001b[0m \u001b[0;34m*\u001b[0m\u001b[0;34m\u001b[0m\u001b[0;34m\u001b[0m\u001b[0m\n",
      "\u001b[0;32m~/miniconda3/envs/WASP50/lib/python3.9/site-packages/lightkurve/units.py\u001b[0m in \u001b[0;36m<module>\u001b[0;34m\u001b[0m\n\u001b[1;32m      1\u001b[0m \u001b[0;34m\"\"\"Define custom AstroPy units commonly used by the Kepler/TESS community.\"\"\"\u001b[0m\u001b[0;34m\u001b[0m\u001b[0;34m\u001b[0m\u001b[0m\n\u001b[0;32m----> 2\u001b[0;31m \u001b[0;32mfrom\u001b[0m \u001b[0mastropy\u001b[0m \u001b[0;32mimport\u001b[0m \u001b[0munits\u001b[0m \u001b[0;32mas\u001b[0m \u001b[0mu\u001b[0m\u001b[0;34m\u001b[0m\u001b[0;34m\u001b[0m\u001b[0m\n\u001b[0m\u001b[1;32m      3\u001b[0m \u001b[0;34m\u001b[0m\u001b[0m\n\u001b[1;32m      4\u001b[0m \u001b[0m__all__\u001b[0m \u001b[0;34m=\u001b[0m \u001b[0;34m[\u001b[0m\u001b[0;34m\"ppt\"\u001b[0m\u001b[0;34m,\u001b[0m \u001b[0;34m\"ppm\"\u001b[0m\u001b[0;34m]\u001b[0m\u001b[0;34m\u001b[0m\u001b[0;34m\u001b[0m\u001b[0m\n\u001b[1;32m      5\u001b[0m \u001b[0;34m\u001b[0m\u001b[0m\n",
      "\u001b[0;31mImportError\u001b[0m: cannot import name 'units' from 'astropy' (unknown location)"
     ]
    }
   ],
   "source": [
    "from tess_sip import SIP\n",
    "import lightkurve as lk\n",
    "import matplotlib.pyplot as plt\n",
    "import numpy as np\n",
    "import astropy.units as u\n",
    "\n",
    "%config InlineBackend.print_figure_kwargs={\"facecolor\" : \"w\"}"
   ]
  },
  {
   "cell_type": "code",
   "execution_count": null,
   "id": "36874407",
   "metadata": {},
   "outputs": [],
   "source": [
    "# f_med = np.median(f)\n",
    "# lc = lk.LightCurve(time=t - 2.457e6, flux=1e6*(f - f_med)/f_med)\n",
    "# #lc = lk.LightCurve(time=t - 2.457e6, flux=f, flux_err=f_err)\n",
    "# lc_binned = lc.bin(time_bin_size=21)\n",
    "\n",
    "# fig, ax = plt.subplots(figsize=(8, 5))\n",
    "# #lc.errorbar(ax=ax)\n",
    "# #lc_binned.errorbar(ax=ax, fmt='o')\n",
    "\n",
    "# pg = lc_binned.to_periodogram(minimum_period=5, maximum_period=30)\n",
    "\n",
    "# plt.plot(pg.period, pg.power * f_med/1e6)\n",
    "# #pg.plot()\n",
    "# print(pg.period_at_max_power, pg.max_power)\n",
    "# probabilities = [0.1, 0.05, 0.01]\n",
    "# pg._LS_object.false_alarm_level(probabilities)"
   ]
  },
  {
   "cell_type": "code",
   "execution_count": null,
   "id": "9390ba75",
   "metadata": {},
   "outputs": [],
   "source": [
    "period = 1.9550931258\n",
    "t_0 = 2455558.61237 \n",
    "duration = 1.1 * 1.83 * (1.0 / 24.0) # 1.1x buffer"
   ]
  },
  {
   "cell_type": "code",
   "execution_count": null,
   "id": "7988ce2b",
   "metadata": {},
   "outputs": [],
   "source": [
    "srs = lk.search_lightcurve(\"WASP50\", author=\"TESS-SPOC\")\n",
    "display(srs)\n",
    "lcs = srs.download_all()\n",
    "\n",
    "# srs = lk.search_targetpixelfile(\"WASP50\", author=\"TESS-SPOC\")\n",
    "# display(srs)\n",
    "# tpfs = srs.download_all()\n",
    "# lcs = lk.LightCurveCollection(\n",
    "#     [tpf.to_lightcurve(aperture_mask=\"pipeline\") for tpf in tpfs]\n",
    "# )\n",
    "\n",
    "# sip_kwargs = {\n",
    "#     \"min_period\": 5.0,\n",
    "#     \"max_period\": 30.0,\n",
    "#     \"nperiods\": 100,\n",
    "#     \"bin_kwargs\": {\"time_bin_size\": 12.0*u.hr.to(\"d\")},\n",
    "# }\n",
    "#r = SIP(lcs, **sip_kwargs)\n",
    "\n",
    "lc = lcs.stitch().flatten()#.remove_outliers()\n",
    "lc.errorbar()\n",
    "\n",
    "# periods = np.linspace(1, 3, 1_000)\n",
    "\n",
    "# bls = lc.to_periodogram(method=\"bls\", period=periods, frequency_factor=500)\n",
    "\n",
    "# bls.plot()\n",
    "\n",
    "period = 1.9550931258\n",
    "t_0 = 2455558.61237 \n",
    "# duration = 1.1 * 1.83 * (1.0 / 24.0) # 1.1x buffer\n",
    "\n",
    "# planet_b_period = bls.period_at_max_power\n",
    "# planet_b_t0 = bls.transit_time_at_max_power\n",
    "# planet_b_dur = bls.duration_at_max_power\n",
    "\n",
    "# # Check the value for period\n",
    "# print(planet_b_period)"
   ]
  },
  {
   "cell_type": "code",
   "execution_count": null,
   "id": "e70bc7f9",
   "metadata": {},
   "outputs": [],
   "source": [
    "ax = lc.fold(1.9550931258).scatter()\n",
    "#ax.set_xlim(-5, 5);"
   ]
  },
  {
   "cell_type": "code",
   "execution_count": null,
   "id": "a398f964",
   "metadata": {},
   "outputs": [],
   "source": [
    "plt.semilogy(r[\"periods\"], r[\"power\"] / r[\"power_bkg\"])"
   ]
  },
  {
   "cell_type": "code",
   "execution_count": null,
   "id": "256e632c",
   "metadata": {},
   "outputs": [],
   "source": [
    "fig, ax = plt.subplots()\n",
    "\n",
    "r[\"corr_lc\"].remove_nans().scatter(ax=ax)\n",
    "\n",
    "#ax.set_xlim(1400, 1450)\n",
    "ax.set_ylim(0.99, 1.01)"
   ]
  },
  {
   "cell_type": "code",
   "execution_count": null,
   "id": "0a468549",
   "metadata": {},
   "outputs": [],
   "source": [
    "lc_combined = lcs.stitch(lambda x: x.remove_nans().remove_outliers(sigma=3.0).normalize())"
   ]
  },
  {
   "cell_type": "code",
   "execution_count": null,
   "id": "db0e6f7b",
   "metadata": {},
   "outputs": [],
   "source": [
    "pg = lc_combined.to_periodogram(minimum_period=5, maximum_period=30, oversample_factor=1)\n",
    "print(pg.period_at_max_power.value * 3)\n",
    "pg.plot()\n",
    "\n",
    "probabilities = [0.1, 0.05, 0.01]\n",
    "pg._LS_object.false_alarm_level(probabilities)"
   ]
  },
  {
   "cell_type": "code",
   "execution_count": null,
   "id": "63ce7b85",
   "metadata": {},
   "outputs": [],
   "source": [
    "lc_corr = r[\"corr_lc\"].remove_nans().remove_outliers().normalize()\n",
    "\n",
    "plt.scatter(lc_corr.time.value, lc_corr.flux)\n",
    "plt.xlim(1400, 1450)"
   ]
  },
  {
   "cell_type": "code",
   "execution_count": null,
   "id": "65761cc9",
   "metadata": {},
   "outputs": [],
   "source": [
    "t, f, f_err = np.genfromtxt(\n",
    "    \"/home/mango/Desktop/WASP50LC_ASASSN_binned.txt\",\n",
    "    unpack=True,\n",
    "    delimiter=',',\n",
    "    skip_header=1,\n",
    ")"
   ]
  },
  {
   "cell_type": "code",
   "execution_count": null,
   "id": "23110f20",
   "metadata": {},
   "outputs": [],
   "source": [
    "data = {\n",
    "    \"time\":t,\n",
    "    \"flux\":f,\n",
    "    \"flux_err\":f_err,\n",
    "}\n",
    "lc_ASASSN = lk.LightCurve(data=data)\n",
    "lc_ASASSN"
   ]
  },
  {
   "cell_type": "code",
   "execution_count": null,
   "id": "d94bdcc2",
   "metadata": {},
   "outputs": [],
   "source": [
    "pg_ASASSN = lc_ASASSN.to_periodogram(minimum_period=5.0, maximum_period=30.0)\n",
    "pg_ASASSN.plot()"
   ]
  },
  {
   "cell_type": "code",
   "execution_count": null,
   "id": "3b509390",
   "metadata": {},
   "outputs": [],
   "source": [
    "lc = lcs[0].remove_nans().normalize().remove_outliers()"
   ]
  },
  {
   "cell_type": "code",
   "execution_count": null,
   "id": "9ce6844e",
   "metadata": {},
   "outputs": [],
   "source": [
    "pg = lc.to_periodogram(minimum_period = 1.5,\n",
    "                      maximum_period = 2.5,\n",
    "                      oversample_factor=100)\n",
    "pg.plot(view='period');"
   ]
  },
  {
   "cell_type": "code",
   "execution_count": null,
   "id": "6feef791",
   "metadata": {},
   "outputs": [],
   "source": [
    "new_period = pg.period_at_max_power\n",
    "new_period"
   ]
  },
  {
   "cell_type": "code",
   "execution_count": null,
   "id": "126c7e6f",
   "metadata": {},
   "outputs": [],
   "source": [
    "plt.scatter(lc.time.value, lc.flux.value)"
   ]
  },
  {
   "cell_type": "code",
   "execution_count": null,
   "id": "b0137df1",
   "metadata": {},
   "outputs": [],
   "source": [
    "lc_ASASN = lk.LightCurve()"
   ]
  }
 ],
 "metadata": {
  "kernelspec": {
   "display_name": "Python 3",
   "language": "python",
   "name": "python3"
  },
  "language_info": {
   "codemirror_mode": {
    "name": "ipython",
    "version": 3
   },
   "file_extension": ".py",
   "mimetype": "text/x-python",
   "name": "python",
   "nbconvert_exporter": "python",
   "pygments_lexer": "ipython3",
   "version": "3.9.5"
  },
  "toc": {
   "base_numbering": 1,
   "nav_menu": {},
   "number_sections": false,
   "sideBar": true,
   "skip_h1_title": false,
   "title_cell": "Table of Contents",
   "title_sidebar": "Contents",
   "toc_cell": false,
   "toc_position": {},
   "toc_section_display": true,
   "toc_window_display": true
  }
 },
 "nbformat": 4,
 "nbformat_minor": 5
}
