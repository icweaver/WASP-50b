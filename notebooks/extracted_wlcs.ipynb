{
 "cells": [
  {
   "cell_type": "markdown",
   "id": "medieval-teach",
   "metadata": {},
   "source": [
    "# Extracted WLCs"
   ]
  },
  {
   "cell_type": "markdown",
   "id": "historical-working",
   "metadata": {},
   "source": [
    "## Setup"
   ]
  },
  {
   "cell_type": "code",
   "execution_count": 195,
   "id": "intelligent-america",
   "metadata": {},
   "outputs": [
    {
     "name": "stdout",
     "output_type": "stream",
     "text": [
      "The autoreload extension is already loaded. To reload it, use:\n",
      "  %reload_ext autoreload\n"
     ]
    }
   ],
   "source": [
    "%load_ext autoreload\n",
    "%autoreload 2"
   ]
  },
  {
   "cell_type": "code",
   "execution_count": 196,
   "id": "important-bibliography",
   "metadata": {},
   "outputs": [],
   "source": [
    "import glob as glob\n",
    "import matplotlib as mpl\n",
    "import matplotlib.patheffects as PathEffects\n",
    "import matplotlib.pyplot as plt\n",
    "import matplotlib.transforms as transforms\n",
    "import numpy as np\n",
    "import pandas as pd\n",
    "import seaborn as sns\n",
    "\n",
    "import bz2\n",
    "import corner\n",
    "import json\n",
    "import pathlib\n",
    "import pickle\n",
    "import utils\n",
    "import warnings\n",
    "\n",
    "from astropy import constants as const\n",
    "from astropy import units as uni\n",
    "from astropy.io import ascii, fits\n",
    "from astropy.time import Time\n",
    "from mpl_toolkits.axes_grid1 import ImageGrid\n",
    "\n",
    "# Default figure dimensions\n",
    "FIG_WIDE = (11, 5)\n",
    "FIG_LARGE = (8, 11)\n",
    "\n",
    "# Figure style\n",
    "sns.set(style=\"ticks\", palette=\"colorblind\", color_codes=True, context=\"talk\")\n",
    "params = utils.plot_params()\n",
    "plt.rcParams.update(params)"
   ]
  },
  {
   "cell_type": "markdown",
   "id": "sophisticated-spencer",
   "metadata": {},
   "source": [
    "## [Dowload data](https://www.dropbox.com/sh/f6rqfis0rdd0w1r/AAADJF0JI-YEx1cS9oCiwKP6a?dl=1) (same dataset used for extracted spectra)"
   ]
  },
  {
   "cell_type": "markdown",
   "id": "honey-julian",
   "metadata": {},
   "source": [
    "Unzip this into a folder named `data` in the same level as this notebook"
   ]
  },
  {
   "cell_type": "markdown",
   "id": "embedded-circle",
   "metadata": {},
   "source": [
    "## Finish set-up"
   ]
  },
  {
   "cell_type": "code",
   "execution_count": 197,
   "id": "minor-bathroom",
   "metadata": {},
   "outputs": [],
   "source": [
    "! ln -srf data/extracted_spectra data/extracted_wlcs"
   ]
  },
  {
   "cell_type": "markdown",
   "id": "liberal-concentration",
   "metadata": {},
   "source": [
    "## Load"
   ]
  },
  {
   "cell_type": "code",
   "execution_count": 254,
   "id": "advisory-lindsay",
   "metadata": {
    "scrolled": true
   },
   "outputs": [],
   "source": [
    "# Load\n",
    "base_dir = \"data/extracted_wlcs\"\n",
    "\n",
    "data_dict = {\n",
    "#     \"Transit 1\": {\n",
    "#         \"data\": utils.load_pickle(\n",
    "#             f\"{base_dir}/ut131219_a15_25_noflat/LCs_w50_bins.pkl\"\n",
    "#         ),\n",
    "#         \"comps_to_highlight\": [\"c15\", \"c18\", \"c21\", \"c23\"],\n",
    "#         #\"bad_idxs_user\": \"[81, 114, 145, 146, 153, 154, 172, 175, 184, 201]\",\n",
    "#         #\"bad_idxs_user\": \"[81, 114, 145, 146, 153, 154, 158:172, 175, 184, 201]\", # missing shoulder test\n",
    "#         \"bad_idxs_user\": \"[81, 114, 146, 201]\", # less aggressive\n",
    "#         \"t0\": Time(\"2013-12-19 03:22\").jd,\n",
    "#     },\n",
    "    \"Transit 1 (px)\": {\n",
    "        \"data\": utils.load_pickle(\n",
    "            f\"{base_dir}/ut131219_a15_25_noflat_fixbadpixels/LCs_w50_bins.pkl\"\n",
    "        ),\n",
    "        \"comps_to_highlight\": [\"c15\", \"c18\", \"c21\", \"c23\"],\n",
    "        \"bad_idxs_user\": \"[81, 114, 146, 172, 175, 184, 201]\",\n",
    "        \"t0\": Time(\"2013-12-19 03:22\").jd,\n",
    "    },\n",
    "#     \"Transit 2\": {\n",
    "#         \"data\": utils.load_pickle(\n",
    "#             f\"{base_dir}/ut150927_a15_25_noflat/LCs_w50_bins.pkl\"\n",
    "#         ),\n",
    "#         \"comps_to_highlight\": [\"c15\", \"c18\", \"c21\", \"c23\"],\n",
    "#         \"bad_idxs_user\": \"[7, 8, 11, 31, 33, 112, 136, 153, 240]\",\n",
    "#         \"t0\": Time(\"2015-09-27 06:37\").jd,\n",
    "#     },\n",
    "    \"Transit 2 (px)\": {\n",
    "        \"data\": utils.load_pickle(\n",
    "            f\"{base_dir}/ut150927_a15_25_noflat_fixbadpixels/LCs_w50_bins.pkl\"\n",
    "        ),\n",
    "        \"comps_to_highlight\": [\"c15\", \"c18\", \"c21\", \"c23\"],\n",
    "        \"bad_idxs_user\": \"[7, 8, 11, 31, 33, 240]\",\n",
    "        \"t0\": Time(\"2015-09-27 06:37\").jd,\n",
    "    },\n",
    "#     \"Transit 3\": {\n",
    "#         \"data\": utils.load_pickle(\n",
    "#             f\"{base_dir}/ut161211_a24_42_noflat/LCs_w50_bins.pkl\"\n",
    "#         ),\n",
    "#         \"comps_to_highlight\": [\"c06\", \"c13\"],\n",
    "#         \"bad_idxs_user\": \"[18, 40, 41, 42, 43, 44, 45, 88, 180:182]\",\n",
    "#         #\"bad_idxs_user\": \"[18, 40, 41, 42, 43, 44, 45, 52, 55, 88, 200:223]\", # missing shoulder test\n",
    "#         \"t0\": Time(\"2016-12-12 03:03\").jd,\n",
    "#     },\n",
    "    \"Transit 3 (px)\": {\n",
    "        \"data\": utils.load_pickle(\n",
    "            f\"{base_dir}/ut161211_a24_42_noflat_fixbadpixels/LCs_w50_bins.pkl\"\n",
    "        ),\n",
    "        \"comps_to_highlight\": [\"c06\", \"c13\"],\n",
    "        \"bad_idxs_user\": \"[18, 40, 41, 42, 43, 44, 45, 52, 55, 88]\",\n",
    "        \"t0\": Time(\"2016-12-12 03:03\").jd,\n",
    "    },\n",
    "}"
   ]
  },
  {
   "cell_type": "markdown",
   "id": "immediate-cotton",
   "metadata": {},
   "source": [
    "## Plot"
   ]
  },
  {
   "cell_type": "code",
   "execution_count": 255,
   "id": "7ff4cfd4",
   "metadata": {
    "scrolled": false
   },
   "outputs": [
    {
     "name": "stdout",
     "output_type": "stream",
     "text": [
      "Transit 1 (px)\n",
      "[81, 114, 145, 146, 153, 154, 172, 175, 184, 201]\n",
      "\n",
      "\n",
      "Transit 2 (px)\n",
      "[7, 8, 11, 31, 33, 240]\n",
      "\n",
      "\n",
      "Transit 3 (px)\n",
      "[18, 40, 41, 42, 43, 44, 45, 52, 55, 88]\n",
      "\n",
      "\n"
     ]
    }
   ],
   "source": [
    "colors = sns.color_palette()\n",
    "for i, (transit_name, transit_info) in enumerate(data_dict.items()):\n",
    "    data = transit_info[\"data\"]\n",
    "    t0 = transit_info[\"t0\"]\n",
    "    comps = data[\"cNames\"]\n",
    "    comps_to_highlight = transit_info[\"comps_to_highlight\"]\n",
    "    bad_idxs_user = transit_info[\"bad_idxs_user\"]\n",
    "    ncomps = len(comps)\n",
    "    nrows = 2\n",
    "    ncols = 4 #int(ncomps / nrows)\n",
    "    \n",
    "    fig, axes = plt.subplots(\n",
    "        nrows, ncols, \n",
    "        sharex =True, sharey=True,\n",
    "        figsize = (12, 8),\n",
    "    )\n",
    "    \n",
    "    #print(transit_name)\n",
    "    bad_idxs_dict = {}\n",
    "    for ax, comp in zip(axes.flat, comps): \n",
    "        p, bad_idxs_dict[comp] = utils.plot_divided_wlcs(\n",
    "            ax,\n",
    "            data,\n",
    "            t0 = 0,#t0,\n",
    "            ferr = 0.001,\n",
    "            comps_to_use = [comp],\n",
    "            div_kwargs = {\"fmt\": \".\", \"lw\": 0.5, \"mew\": 0.0, \"ms\": 3, \"c\": colors[i]},\n",
    "            bad_div_kwargs = {\"marker\": \"o\", \"lw\": 0, \"mew\": 1, \"mec\": colors[i], \"ms\": 8, \"c\": \"w\"},\n",
    "            bad_idxs_user = bad_idxs_user,\n",
    "            comps_to_highlight = comps_to_highlight,\n",
    "            use_time=False,\n",
    "        )\n",
    "        #print(comp)\n",
    "        #print(bad_idxs)\n",
    "\n",
    "        if comp not in comps_to_highlight:\n",
    "            ann_c = \"grey\"\n",
    "        else:\n",
    "            ann_c = colors[i]\n",
    "        ax.annotate(\n",
    "            rf\"{transit_name}/{comp}\",\n",
    "            xy = (0.05, 0.85),\n",
    "            xycoords = \"axes fraction\",\n",
    "            fontsize = 12,\n",
    "            color = ann_c,\n",
    "            weight = \"bold\",\n",
    "        )\n",
    "\n",
    "        #ax.set_xlim(-2.5, 2.5)\n",
    "        ax.set_ylim(0.97, 1.02)\n",
    "        ax.yaxis.set_ticks([0.97, 1.00, 1.03])\n",
    "        \n",
    "        fig.suptitle(transit_name)\n",
    "        fig.tight_layout()\n",
    "        \n",
    "    plt.show()\n",
    "    \n",
    "    # Print set of bad_idxs from highlighted comps\n",
    "    print(transit_name)\n",
    "    d = {k:bad_idxs_dict[k] for k in comps_to_highlight}\n",
    "    print(sorted(list(set().union(*d.values()))))\n",
    "    print()\n",
    "    print()\n",
    "\n",
    "#fig.text(0.54, -0.02, \"Time from estimated mid-transit (hours)\", ha=\"center\")\n",
    "#fig.text(-0.01, 0.5, \"Normalizd flux\", va=\"center\", rotation=\"vertical\")\n",
    "#fig.set_size_inches(FIG_LARGE)\n",
    "\n",
    "#utils.savefig(\"../paper/figures/extracted_wlcs/all_transits_extr_wlcs.pdf\")"
   ]
  },
  {
   "cell_type": "code",
   "execution_count": 249,
   "id": "963ae383",
   "metadata": {},
   "outputs": [],
   "source": [
    "%matplotlib qt5"
   ]
  },
  {
   "cell_type": "code",
   "execution_count": 233,
   "id": "197e2c09",
   "metadata": {},
   "outputs": [
    {
     "data": {
      "text/plain": [
       "True"
      ]
     },
     "execution_count": 233,
     "metadata": {},
     "output_type": "execute_result"
    }
   ],
   "source": [
    "# data = utils.load_pickle(\"data/extracted_wlcs/ut150927_a15_25_noflat/LCs_w50_bins.pkl\")\n",
    "\n",
    "# data_radec = utils.load_pickle(\"data/extracted_spectra/ra_dec/ut150927_a15_25_noflat/LCs_w50_bins.pkl\")\n",
    "\n",
    "# np.all(data[\"t\"] == data_radec[\"t\"])"
   ]
  },
  {
   "cell_type": "markdown",
   "id": "5ce04fa2",
   "metadata": {},
   "source": [
    "## LDSS3"
   ]
  },
  {
   "cell_type": "code",
   "execution_count": 75,
   "id": "733fc5e6",
   "metadata": {},
   "outputs": [],
   "source": [
    "cube = np.load(\n",
    "    \"/home/mango/data/WASP50/LDSS3/spectralCube_WASP-50b_LDSS3_e150927_4stars_316spectra_05px_shifted.npy\",\n",
    "    allow_pickle=True,\n",
    ")[()]"
   ]
  },
  {
   "cell_type": "code",
   "execution_count": 8,
   "id": "47e5490d",
   "metadata": {},
   "outputs": [
    {
     "data": {
      "text/plain": [
       "'aperture_324_803'"
      ]
     },
     "execution_count": 8,
     "metadata": {},
     "output_type": "execute_result"
    }
   ],
   "source": [
    "target = cube[\"target\"]\n",
    "target"
   ]
  },
  {
   "cell_type": "code",
   "execution_count": 29,
   "id": "c1d7d5e2",
   "metadata": {},
   "outputs": [
    {
     "data": {
      "text/plain": [
       "array(['aperture_28_1189', 'aperture_153_1117', 'aperture_830_689'],\n",
       "      dtype='<U17')"
      ]
     },
     "execution_count": 29,
     "metadata": {},
     "output_type": "execute_result"
    }
   ],
   "source": [
    "comps = cube[\"comparisons\"]\n",
    "comps"
   ]
  },
  {
   "cell_type": "code",
   "execution_count": 12,
   "id": "6eb8b599",
   "metadata": {},
   "outputs": [
    {
     "data": {
      "text/plain": [
       "array([5000, 5001, 5002, ..., 9797, 9798, 9799])"
      ]
     },
     "execution_count": 12,
     "metadata": {},
     "output_type": "execute_result"
    }
   ],
   "source": [
    "wave = cube[\"spectral\"][\"wavelength\"]\n",
    "wave"
   ]
  },
  {
   "cell_type": "code",
   "execution_count": 18,
   "id": "7cfd24fe",
   "metadata": {},
   "outputs": [
    {
     "data": {
      "text/plain": [
       "(316, 4800)"
      ]
     },
     "execution_count": 18,
     "metadata": {},
     "output_type": "execute_result"
    }
   ],
   "source": [
    "raw_counts = cube[\"cubes\"][\"raw_counts\"]\n",
    "raw_counts[target].shape"
   ]
  },
  {
   "cell_type": "code",
   "execution_count": 21,
   "id": "f70c8fbe",
   "metadata": {},
   "outputs": [],
   "source": [
    "flux_targ = np.sum(raw_counts[target], axis=1)"
   ]
  },
  {
   "cell_type": "code",
   "execution_count": 52,
   "id": "68a9c258",
   "metadata": {},
   "outputs": [],
   "source": [
    "flux_comps = np.c_[\n",
    "    [np.sum(raw_counts[comp], axis=1) for comp in comps]\n",
    "]\n",
    "\n",
    "fs = flux_targ / flux_comps"
   ]
  },
  {
   "cell_type": "code",
   "execution_count": 71,
   "id": "4290fcbb",
   "metadata": {},
   "outputs": [
    {
     "data": {
      "image/png": "[encoded data removed]",
      "text/plain": [
       "<Figure size 792x360 with 1 Axes>"
      ]
     },
     "metadata": {},
     "output_type": "display_data"
    }
   ],
   "source": [
    "fig, ax = plt.subplots(figsize=FIG_WIDE)\n",
    "\n",
    "for i, f in enumerate(fs, start=1):\n",
    "    ax.plot(\n",
    "        f / np.median(f), 'o',\n",
    "        label=f\"targ / comp {i}\",\n",
    "    )\n",
    "    \n",
    "ax.legend()\n",
    "ax.set_xlabel(\"Index\")\n",
    "ax.set_ylabel(\"Normalized flux\")\n",
    "\n",
    "utils.savefig(\"/home/mango/Desktop/div_wlcs.png\", dpi=250)"
   ]
  }
 ],
 "metadata": {
  "kernelspec": {
   "display_name": "Python 3",
   "language": "python",
   "name": "python3"
  },
  "language_info": {
   "codemirror_mode": {
    "name": "ipython",
    "version": 3
   },
   "file_extension": ".py",
   "mimetype": "text/x-python",
   "name": "python",
   "nbconvert_exporter": "python",
   "pygments_lexer": "ipython3",
   "version": "3.9.2"
  },
  "toc": {
   "base_numbering": 1,
   "nav_menu": {
    "height": "128px",
    "width": "388px"
   },
   "number_sections": false,
   "sideBar": false,
   "skip_h1_title": false,
   "title_cell": "Table of Contents",
   "title_sidebar": "Contents",
   "toc_cell": false,
   "toc_position": {},
   "toc_section_display": false,
   "toc_window_display": false
  }
 },
 "nbformat": 4,
 "nbformat_minor": 5
}
