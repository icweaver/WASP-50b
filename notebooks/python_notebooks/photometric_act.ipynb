{
 "cells": [
  {
   "cell_type": "markdown",
   "id": "valued-riverside",
   "metadata": {},
   "source": [
    "# Photometric monitoring"
   ]
  },
  {
   "cell_type": "markdown",
   "id": "sorted-district",
   "metadata": {},
   "source": [
    "## Setup"
   ]
  },
  {
   "cell_type": "code",
   "execution_count": 1,
   "id": "injured-sheep",
   "metadata": {},
   "outputs": [],
   "source": [
    "%load_ext autoreload\n",
    "%autoreload 2"
   ]
  },
  {
   "cell_type": "code",
   "execution_count": 2,
   "id": "2c72e19d",
   "metadata": {},
   "outputs": [],
   "source": [
    "from astropy.coordinates import SkyCoord, EarthLocation\n",
    "from astropy import units as u\n",
    "from astropy.time import Time"
   ]
  },
  {
   "cell_type": "code",
   "execution_count": 3,
   "id": "harmful-advantage",
   "metadata": {},
   "outputs": [],
   "source": [
    "import glob as glob\n",
    "import matplotlib as mpl\n",
    "import matplotlib.patheffects as PathEffects\n",
    "import matplotlib.pyplot as plt\n",
    "import matplotlib.transforms as transforms\n",
    "import numpy as np\n",
    "import pandas as pd\n",
    "import seaborn as sns\n",
    "\n",
    "import corner\n",
    "import json\n",
    "import pathlib\n",
    "import pickle\n",
    "import utils\n",
    "import warnings\n",
    "import sys\n",
    "\n",
    "from astropy import constants as const\n",
    "from astropy import units as uni\n",
    "from astropy.io import ascii, fits\n",
    "from astropy.time import Time\n",
    "from mpl_toolkits.axes_grid1 import ImageGrid\n",
    "\n",
    "# Default figure dimensions\n",
    "FIG_WIDE = (11, 5)\n",
    "FIG_LARGE = (8, 11)\n",
    "\n",
    "# Figure style\n",
    "sns.set(style=\"ticks\", palette=\"colorblind\", color_codes=True, context=\"talk\")\n",
    "params = utils.plot_params()\n",
    "plt.rcParams.update(params)"
   ]
  },
  {
   "cell_type": "markdown",
   "id": "alert-alaska",
   "metadata": {},
   "source": [
    "## [Dowload data](https://www.dropbox.com/sh/74sihxztgd82jjz/AADgB_f5RYc3De3IEioUGAfha?dl=1)"
   ]
  },
  {
   "cell_type": "markdown",
   "id": "looking-junction",
   "metadata": {},
   "source": [
    "Unzip this into a folder named `data` in the same level as this notebook"
   ]
  },
  {
   "cell_type": "markdown",
   "id": "compatible-electric",
   "metadata": {},
   "source": [
    "## Load"
   ]
  },
  {
   "cell_type": "code",
   "execution_count": 11,
   "id": "joint-stadium",
   "metadata": {},
   "outputs": [
    {
     "data": {
      "text/html": [
       "<div>\n",
       "<style scoped>\n",
       "    .dataframe tbody tr th:only-of-type {\n",
       "        vertical-align: middle;\n",
       "    }\n",
       "\n",
       "    .dataframe tbody tr th {\n",
       "        vertical-align: top;\n",
       "    }\n",
       "\n",
       "    .dataframe thead th {\n",
       "        text-align: right;\n",
       "    }\n",
       "</style>\n",
       "<table border=\"1\" class=\"dataframe\">\n",
       "  <thead>\n",
       "    <tr style=\"text-align: right;\">\n",
       "      <th></th>\n",
       "      <th>hjd</th>\n",
       "      <th>camera</th>\n",
       "      <th>filter</th>\n",
       "      <th>mag</th>\n",
       "      <th>mag err</th>\n",
       "      <th>flux (mJy)</th>\n",
       "      <th>flux err</th>\n",
       "    </tr>\n",
       "  </thead>\n",
       "  <tbody>\n",
       "    <tr>\n",
       "      <th>0</th>\n",
       "      <td>2.458364e+06</td>\n",
       "      <td>bd</td>\n",
       "      <td>V</td>\n",
       "      <td>11.748</td>\n",
       "      <td>0.02</td>\n",
       "      <td>76.097</td>\n",
       "      <td>1.400</td>\n",
       "    </tr>\n",
       "    <tr>\n",
       "      <th>1</th>\n",
       "      <td>2.458342e+06</td>\n",
       "      <td>bh</td>\n",
       "      <td>V</td>\n",
       "      <td>11.744</td>\n",
       "      <td>0.02</td>\n",
       "      <td>76.943</td>\n",
       "      <td>1.416</td>\n",
       "    </tr>\n",
       "    <tr>\n",
       "      <th>2</th>\n",
       "      <td>2.458087e+06</td>\n",
       "      <td>bh</td>\n",
       "      <td>V</td>\n",
       "      <td>11.735</td>\n",
       "      <td>0.02</td>\n",
       "      <td>77.610</td>\n",
       "      <td>1.428</td>\n",
       "    </tr>\n",
       "    <tr>\n",
       "      <th>3</th>\n",
       "      <td>2.458033e+06</td>\n",
       "      <td>bd</td>\n",
       "      <td>V</td>\n",
       "      <td>11.739</td>\n",
       "      <td>0.02</td>\n",
       "      <td>76.732</td>\n",
       "      <td>1.412</td>\n",
       "    </tr>\n",
       "    <tr>\n",
       "      <th>4</th>\n",
       "      <td>2.458016e+06</td>\n",
       "      <td>bh</td>\n",
       "      <td>V</td>\n",
       "      <td>11.745</td>\n",
       "      <td>0.02</td>\n",
       "      <td>76.872</td>\n",
       "      <td>1.414</td>\n",
       "    </tr>\n",
       "    <tr>\n",
       "      <th>...</th>\n",
       "      <td>...</td>\n",
       "      <td>...</td>\n",
       "      <td>...</td>\n",
       "      <td>...</td>\n",
       "      <td>...</td>\n",
       "      <td>...</td>\n",
       "      <td>...</td>\n",
       "    </tr>\n",
       "    <tr>\n",
       "      <th>272</th>\n",
       "      <td>2.457577e+06</td>\n",
       "      <td>bh</td>\n",
       "      <td>V</td>\n",
       "      <td>11.735</td>\n",
       "      <td>0.02</td>\n",
       "      <td>77.592</td>\n",
       "      <td>1.428</td>\n",
       "    </tr>\n",
       "    <tr>\n",
       "      <th>273</th>\n",
       "      <td>2.458002e+06</td>\n",
       "      <td>bd</td>\n",
       "      <td>V</td>\n",
       "      <td>11.741</td>\n",
       "      <td>0.02</td>\n",
       "      <td>76.601</td>\n",
       "      <td>1.409</td>\n",
       "    </tr>\n",
       "    <tr>\n",
       "      <th>274</th>\n",
       "      <td>2.457414e+06</td>\n",
       "      <td>bh</td>\n",
       "      <td>V</td>\n",
       "      <td>11.730</td>\n",
       "      <td>0.02</td>\n",
       "      <td>77.952</td>\n",
       "      <td>1.434</td>\n",
       "    </tr>\n",
       "    <tr>\n",
       "      <th>275</th>\n",
       "      <td>2.457396e+06</td>\n",
       "      <td>bd</td>\n",
       "      <td>V</td>\n",
       "      <td>11.738</td>\n",
       "      <td>0.02</td>\n",
       "      <td>76.861</td>\n",
       "      <td>1.414</td>\n",
       "    </tr>\n",
       "    <tr>\n",
       "      <th>276</th>\n",
       "      <td>2.457315e+06</td>\n",
       "      <td>bd</td>\n",
       "      <td>V</td>\n",
       "      <td>11.724</td>\n",
       "      <td>0.02</td>\n",
       "      <td>77.837</td>\n",
       "      <td>1.432</td>\n",
       "    </tr>\n",
       "  </tbody>\n",
       "</table>\n",
       "<p>277 rows × 7 columns</p>\n",
       "</div>"
      ],
      "text/plain": [
       "              hjd camera filter     mag  mag err  flux (mJy)  flux err\n",
       "0    2.458364e+06     bd      V  11.748     0.02      76.097     1.400\n",
       "1    2.458342e+06     bh      V  11.744     0.02      76.943     1.416\n",
       "2    2.458087e+06     bh      V  11.735     0.02      77.610     1.428\n",
       "3    2.458033e+06     bd      V  11.739     0.02      76.732     1.412\n",
       "4    2.458016e+06     bh      V  11.745     0.02      76.872     1.414\n",
       "..            ...    ...    ...     ...      ...         ...       ...\n",
       "272  2.457577e+06     bh      V  11.735     0.02      77.592     1.428\n",
       "273  2.458002e+06     bd      V  11.741     0.02      76.601     1.409\n",
       "274  2.457414e+06     bh      V  11.730     0.02      77.952     1.434\n",
       "275  2.457396e+06     bd      V  11.738     0.02      76.861     1.414\n",
       "276  2.457315e+06     bd      V  11.724     0.02      77.837     1.432\n",
       "\n",
       "[277 rows x 7 columns]"
      ]
     },
     "execution_count": 11,
     "metadata": {},
     "output_type": "execute_result"
    }
   ],
   "source": [
    "dirpath = \"../data/photometric\"\n",
    "\n",
    "mid_transit_times = {\n",
    "    \"Transit 1\": \"2013-12-19 12:00:00\",\n",
    "    \"Transit 2\": \"2015-09-27 12:00:00\",\n",
    "    \"Transit 3\": \"2016-12-11 12:00:00\",\n",
    "}\n",
    "\n",
    "# Load processed data\n",
    "df_stell_data = pd.read_csv(\n",
    "    f\"{dirpath}/AP37847073.csv\",\n",
    "#     names=[\"t_HJD\", \"t_UT\", \"f\"],\n",
    "#     parse_dates=[1],\n",
    "#     infer_datetime_format=True,\n",
    ")\n",
    "\n",
    "# Load model data\n",
    "# df_stell_model = pd.read_csv(\n",
    "#     f\"{dirpath}/HATP23_GP_model_Prot7_v3.csv\", names=[\"t_HJD\", \"f\", \"f_err\"]\n",
    "# )\n",
    "\n",
    "df_stell_data#.sort_values(\"hjd\", inplace=True)\n",
    "df_stell_data"
   ]
  },
  {
   "cell_type": "code",
   "execution_count": 25,
   "id": "f333d3ac",
   "metadata": {},
   "outputs": [],
   "source": [
    "coords_W50 = \"1:12:43.2 +31:12:43\"\n",
    "def func_bd(x):\n",
    "    x[\"bjd\"] = helio_to_bary(coords_W50, x[\"hjd\"], \"Haleakala\").value\n",
    "    return x\n",
    "\n",
    "def func_bh(x):\n",
    "    x[\"bjd\"] = helio_to_bary(coords_W50, x[\"hjd\"], \"CTIO\").value\n",
    "    return x\n",
    "\n",
    "gdf = df_stell_data.groupby(\"camera\")\n",
    "\n",
    "df_bd = gdf.get_group(\"bd\").apply(func_bd, axis=1)\n",
    "df_bh = gdf.get_group(\"bh\").apply(func_bh, axis=1)"
   ]
  },
  {
   "cell_type": "code",
   "execution_count": 38,
   "id": "3856f9b2",
   "metadata": {},
   "outputs": [],
   "source": [
    "pd.concat([df_bd, df_bh]).to_csv(\"../data/photometric/AP37847073_BJD.csv\", index=False)"
   ]
  },
  {
   "cell_type": "code",
   "execution_count": null,
   "id": "5cf92930",
   "metadata": {},
   "outputs": [],
   "source": [
    "helio_to_bary"
   ]
  },
  {
   "cell_type": "code",
   "execution_count": 2,
   "id": "99a18235",
   "metadata": {},
   "outputs": [],
   "source": [
    "# https://gist.github.com/StuartLittlefair/4ab7bb8cf21862e250be8cb25f72bb7a\n",
    "def helio_to_bary(coords, hjd, obs_name):\n",
    "    helio = Time(hjd, scale=\"utc\", format=\"jd\")\n",
    "    obs = EarthLocation.of_site(obs_name)\n",
    "    star = SkyCoord(coords, unit=(u.hour, u.deg)) \n",
    "    ltt = helio.light_travel_time(star, \"heliocentric\", location=obs)\n",
    "    guess = helio - ltt\n",
    "    \n",
    "    # If we assume guess is correct - how far is heliocentric time away\n",
    "    # from true value?\n",
    "    delta = (\n",
    "    guess + guess.light_travel_time(star, \"heliocentric\", obs)\n",
    "    ).jd - helio.jd\n",
    "    \n",
    "    # Apply this correction\n",
    "    guess -= delta * u.d\n",
    "    ltt = guess.light_travel_time(star, 'barycentric', obs)\n",
    "    \n",
    "    return guess.tdb + ltt"
   ]
  },
  {
   "cell_type": "code",
   "execution_count": 9,
   "id": "58b4c5c8",
   "metadata": {},
   "outputs": [],
   "source": [
    "# From https://gist.github.com/StuartLittlefair/4ab7bb8cf21862e250be8cb25f72bb7a\n",
    "def helio_to_bary(coords, hjd, obs_name):\n",
    "    helio = Time(hjd, scale='utc', format='jd')\n",
    "    obs = EarthLocation.of_site(obs_name)\n",
    "    star = SkyCoord(coords, unit=(u.hour, u.deg)) \n",
    "    ltt = helio.light_travel_time(star, 'heliocentric', location=obs)\n",
    "    guess = helio - ltt\n",
    "    # if we assume guess is correct - how far is heliocentric time away from true value?\n",
    "    delta = (guess + guess.light_travel_time(star, 'heliocentric', obs)).jd  - helio.jd\n",
    "    # apply this correction\n",
    "    guess -= delta * u.d\n",
    "\n",
    "    ltt = guess.light_travel_time(star, 'barycentric', obs)\n",
    "    return guess.tdb + ltt"
   ]
  },
  {
   "cell_type": "markdown",
   "id": "viral-coordinate",
   "metadata": {},
   "source": [
    "## Plot"
   ]
  },
  {
   "cell_type": "code",
   "execution_count": 42,
   "id": "a88d338c",
   "metadata": {
    "scrolled": true
   },
   "outputs": [
    {
     "data": {
      "text/plain": [
       "2457681.00027"
      ]
     },
     "execution_count": 42,
     "metadata": {},
     "output_type": "execute_result"
    }
   ],
   "source": [
    "df_stell_data[\"hjd\"][10]"
   ]
  },
  {
   "cell_type": "code",
   "execution_count": 11,
   "id": "35cb91fe",
   "metadata": {},
   "outputs": [
    {
     "data": {
      "image/png": "[encoded data removed]",
      "text/plain": [
       "<Figure size 792x360 with 1 Axes>"
      ]
     },
     "metadata": {},
     "output_type": "display_data"
    }
   ],
   "source": [
    "t, f = df_stell_data[\"hjd\"].to_numpy() - 2.45e6, df_stell_data[\"mag\"].to_numpy()\n",
    "ferr = df_stell_data[\"mag err\"].to_numpy() * np.ones_like(f)\n",
    "t_binned, f_binned, f_err_binned = BinnedLC(\n",
    "    t, f, ferr, diff_lim=7 #diff_lim=np.mean(np.diff(t_binned))\n",
    ")\n",
    "\n",
    "fig, ax = plt.subplots(figsize=FIG_WIDE)\n",
    "\n",
    "ax.plot(t, f, \"ro\", alpha=0.5, mew=0)\n",
    "# ax.plot(df_stell_model[\"t_HJD\"], df_stell_model[\"f\"], color=\"grey\")\n",
    "# f_d = df_stell_model[\"f\"] - df_stell_model[\"f_err\"]\n",
    "# f_u = df_stell_model[\"f\"] + df_stell_model[\"f_err\"]\n",
    "# ax.fill_between(df_stell_model[\"t_HJD\"], f_d, f_u, alpha=0.3, lw=0, color=\"grey\")\n",
    "\n",
    "p_kwargs = {\"ls\": \"--\", \"c\": \"darkgrey\", \"lw\": 1.0}\n",
    "trans = transforms.blended_transform_factory(ax.transData, ax.transAxes)\n",
    "\n",
    "for transit_name, t0 in mid_transit_times.items():\n",
    "    t_mid = Time(t0).jd - 2.45e6\n",
    "    ax.axvline(t_mid, **p_kwargs)\n",
    "    ax.annotate(\n",
    "        transit_name,\n",
    "        xy=(t_mid, 0.1),\n",
    "        xycoords=trans,\n",
    "        ha=\"right\",\n",
    "        rotation=90.0,\n",
    "        fontsize=12,\n",
    "    )\n",
    "    \n",
    "ax.plot(t_binned, f_binned, \"b.\")\n",
    "\n",
    "# Save\n",
    "#ax.set_ylim(0.88, 0.98)\n",
    "ax.set_xlabel(\"Date (HJD - 2.45e6)\")\n",
    "ax.set_ylabel(\"Mag\")\n",
    "fig.tight_layout()\n",
    "fig.set_size_inches(FIG_WIDE)\n",
    "#utils.savefig(\"../paper/figures/photometric_act/phot_mon_full.pdf\")"
   ]
  },
  {
   "cell_type": "code",
   "execution_count": 13,
   "id": "07e9b5e0",
   "metadata": {},
   "outputs": [
    {
     "data": {
      "text/plain": [
       "97"
      ]
     },
     "execution_count": 13,
     "metadata": {},
     "output_type": "execute_result"
    }
   ],
   "source": [
    "len(t_binned)"
   ]
  },
  {
   "cell_type": "code",
   "execution_count": null,
   "id": "c31acada",
   "metadata": {},
   "outputs": [],
   "source": [
    "plt.plot()"
   ]
  },
  {
   "cell_type": "code",
   "execution_count": 4,
   "id": "ebd8c97f",
   "metadata": {},
   "outputs": [],
   "source": [
    "%matplotlib qt5"
   ]
  },
  {
   "cell_type": "code",
   "execution_count": 30,
   "id": "55c16bc9",
   "metadata": {},
   "outputs": [],
   "source": [
    "def weighted_avg_and_std(values, weights):\n",
    "    \"\"\" Return the weighted average and standard deviation. values, weights -- Numpy ndarrays with the same shape.\"\"\"\n",
    "    average = np.average(values, weights=weights) #weights = 1./err_bar^2. Where err_bar=std & err_bar^2 = variance\n",
    "    variance = np.average((values-average)**2, weights=weights) # Fast and numerically precise\n",
    "    return average, np.sqrt(variance)"
   ]
  },
  {
   "cell_type": "code",
   "execution_count": 10,
   "id": "bb177f22",
   "metadata": {},
   "outputs": [],
   "source": [
    "x = np.random.rand(10)\n",
    "y = np.random.rand(10)\n",
    "y_const = 0.5*np.ones_like(x)"
   ]
  },
  {
   "cell_type": "code",
   "execution_count": 18,
   "id": "8df37c36",
   "metadata": {},
   "outputs": [
    {
     "data": {
      "text/plain": [
       "(array([0.63813037, 0.93437013, 0.34960093, 0.21659307, 0.86643459,\n",
       "        0.67943137, 0.56334442, 0.76031477, 0.2392301 , 0.00885744]),\n",
       " array([0.15513163, 0.68357178, 0.2272109 , 0.13385555, 0.24589623,\n",
       "        0.21925811, 0.90703954, 0.00996151, 0.08618509, 0.54013659]))"
      ]
     },
     "execution_count": 18,
     "metadata": {},
     "output_type": "execute_result"
    }
   ],
   "source": [
    "x, y"
   ]
  },
  {
   "cell_type": "code",
   "execution_count": 28,
   "id": "ff791a2d",
   "metadata": {},
   "outputs": [
    {
     "data": {
      "text/plain": [
       "(0.7491412761337924, 0.3675820054373738)"
      ]
     },
     "execution_count": 28,
     "metadata": {},
     "output_type": "execute_result"
    }
   ],
   "source": [
    "weighted_avg_and_std(x, 1/y**2)"
   ]
  },
  {
   "cell_type": "code",
   "execution_count": 24,
   "id": "1a19ef6e",
   "metadata": {},
   "outputs": [],
   "source": [
    "def weighted_avg2(values, errors):\n",
    "    avg = np.sum(values/(errors**2)) / np.sum(1/(errors**2))\n",
    "    avg_unc = np.sqrt(1/(np.sum(errors**-2)))\n",
    "    return(avg, avg_unc)"
   ]
  },
  {
   "cell_type": "code",
   "execution_count": 22,
   "id": "ffe1eba4",
   "metadata": {},
   "outputs": [
    {
     "data": {
      "text/plain": [
       "(0.7491412761337924, 0.009818600762283749)"
      ]
     },
     "execution_count": 22,
     "metadata": {},
     "output_type": "execute_result"
    }
   ],
   "source": [
    "weighted_avg2(x, y)"
   ]
  },
  {
   "cell_type": "code",
   "execution_count": null,
   "id": "8c1e018e",
   "metadata": {},
   "outputs": [],
   "source": []
  },
  {
   "cell_type": "code",
   "execution_count": 10,
   "id": "ee85d223",
   "metadata": {},
   "outputs": [],
   "source": [
    "triangular_number = lambda n: int(n)*(int(n)+1)//2 #this is addition factorial. i.e X+(X-1)+(X-2)+(X-3)...\n",
    "\n",
    "def weighted_avg_and_std(values, weights):\n",
    "    \"\"\" Return the weighted average and standard deviation. values, weights -- Numpy ndarrays with the same shape.\"\"\"\n",
    "    average = np.average(values, weights=weights) #weights = 1./err_bar^2. Where err_bar=std & err_bar^2 = variance\n",
    "    variance = np.average((values-average)**2, weights=weights) # Fast and numerically precise\n",
    "    return average, np.sqrt(variance)\n",
    "\n",
    "# to code that averages the datapoints that are close in time\n",
    "def BinnedLC(time, flux, flx_err, diff_lim=.1): # diff_lim = max difference in time [days]. 0.1 = 2.4hrs\n",
    "    #To block togther all datapoints that have similar times stamps\n",
    "    DiffGroupTotal = [] #This will be a list of list, where each list holds the indeces that should be combined \n",
    "    DiffGroup_i = [] #To keep track of elements that should be combined\n",
    "    Start_i, end_i = 0, 1 #The 1st index of DiffGroup_i. end_i is initalized to Start_i+1\n",
    "    for d in range(0,len(time)-1):\n",
    "        if time[d+1]-time[Start_i]<diff_lim: #If the 1st element (Start_i) and the last element searched (end_i) have a time difference less than 'diff_lim,' add those indeces\n",
    "            if len(DiffGroup_i) == 0: #Starting new group cointaining small time differences amongst them\n",
    "                DiffGroup_i.append(Start_i) #add start to the list of close times\n",
    "                DiffGroup_i.append(d+1)\n",
    "                Start_i = d #To keep track of where DiffGroup_i started\n",
    "            else: #if DiffGroup_i already initialized, add next element to our list\n",
    "                DiffGroup_i.append(d+1)\n",
    "        else:\n",
    "            if len(DiffGroup_i) > 1: # if the previous step was the last step in the grouped times, append the DiffGroup_i to DiffGroupTotal\n",
    "                DiffGroupTotal.append(DiffGroup_i)\n",
    "            if time[d+1]-time[d]> diff_lim and d not in DiffGroup_i: #only add individual element if not going to go\n",
    "                DiffGroupTotal.append([d]) #in the next list\n",
    "            Start_i= d+1 #reset Start_i\n",
    "            DiffGroup_i = [] #rest the group list\n",
    "    if len(DiffGroup_i) > 1: # For the last element\n",
    "        DiffGroupTotal.append(DiffGroup_i)\n",
    "    else:\n",
    "        DiffGroupTotal.append([d+1])\n",
    "    \n",
    "    #Extra checks to make sure all the indecies are accounted for in the right sub-lists:\n",
    "    TotalSum = 0 #to check if adds\n",
    "    for i in range(len(DiffGroupTotal)): #To scan each sublist\n",
    "        sublist = DiffGroupTotal[i]\n",
    "        FirstTime, LastTime = time[sublist[0]], time[sublist[-1]]\n",
    "        if LastTime-FirstTime > diff_lim: #To make sure the differences of the indeces I marked in each subdirectory are indeed within the approporate limit\n",
    "            sys.exit(\"In sublist \"+str(i)+\", the 1st and last times are \"+str(FirstTime)+\",\"+str(LastTime)+\". Their difference is greater than diff_lim!!!!\")\n",
    "        TotalSum += np.sum(sublist)\n",
    "    Triangle = triangular_number(len(time)-1) #triangle number of len(time)-1, to makes sure every index is accounted for\n",
    "    if TotalSum != Triangle:\n",
    "        print (\"Sum of all indeces is \"+str(TotalSum)+\". However, the triangle number of the inputed time array length is \"+str(Triangle)+\".\") \n",
    "        print (\"DiffGroupTotal\", DiffGroupTotal)\n",
    "        sys.exit()\n",
    "        \n",
    "    #To weight average all blocked data\n",
    "    new_time, new_flux, new_FlxErr = [], [], []\n",
    "    for g in DiffGroupTotal:\n",
    "        if len(g) == 1:\n",
    "            new_time.append(time[g][0]),  new_flux.append(flux[g][0]), new_FlxErr.append(flx_err[g][0])\n",
    "        else:\n",
    "            Flux, STD = weighted_avg_and_std(flux[g], 1./(flx_err[g]**2))\n",
    "            new_time.append(np.mean(time[g])),  new_flux.append(Flux), new_FlxErr.append(STD)\n",
    "    \n",
    "    return np.array(new_time, dtype=\"object\"), np.array(new_flux, dtype=\"object\"), np.array(new_FlxErr, dtype=\"object\") #need the \"object\" because each array is of different size"
   ]
  },
  {
   "cell_type": "code",
   "execution_count": null,
   "id": "b66e42d1",
   "metadata": {},
   "outputs": [],
   "source": []
  }
 ],
 "metadata": {
  "kernelspec": {
   "display_name": "Python 3",
   "language": "python",
   "name": "python3"
  },
  "language_info": {
   "codemirror_mode": {
    "name": "ipython",
    "version": 3
   },
   "file_extension": ".py",
   "mimetype": "text/x-python",
   "name": "python",
   "nbconvert_exporter": "python",
   "pygments_lexer": "ipython3",
   "version": "3.9.5"
  },
  "toc": {
   "base_numbering": 1,
   "nav_menu": {},
   "number_sections": false,
   "sideBar": true,
   "skip_h1_title": false,
   "title_cell": "Table of Contents",
   "title_sidebar": "Contents",
   "toc_cell": false,
   "toc_position": {
    "height": "calc(100% - 180px)",
    "left": "10px",
    "top": "150px",
    "width": "349.091px"
   },
   "toc_section_display": true,
   "toc_window_display": true
  }
 },
 "nbformat": 4,
 "nbformat_minor": 5
}
